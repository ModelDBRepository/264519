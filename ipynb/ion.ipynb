{
 "cells": [
  {
   "cell_type": "code",
   "execution_count": 1,
   "metadata": {},
   "outputs": [],
   "source": [
    "import os\n",
    "import sys\n",
    "sys.path.append('../')\n",
    "sys.path.append('../anmodel')\n",
    "import matplotlib.pyplot as plt\n",
    "\n",
    "import anmodel"
   ]
  },
  {
   "cell_type": "code",
   "execution_count": 2,
   "metadata": {},
   "outputs": [
    {
     "name": "stdout",
     "output_type": "stream",
     "text": [
      "Help on package anmodel:\n",
      "\n",
      "NAME\n",
      "    anmodel\n",
      "\n",
      "PACKAGE CONTENTS\n",
      "    analysis\n",
      "    channels\n",
      "    models\n",
      "    params\n",
      "    search\n",
      "\n",
      "FILE\n",
      "    /Users/tyamada/ueda_lab/averaged_neuron/anmodel/__init__.py\n",
      "\n",
      "\n"
     ]
    }
   ],
   "source": [
    "help(anmodel)"
   ]
  },
  {
   "cell_type": "code",
   "execution_count": 3,
   "metadata": {},
   "outputs": [],
   "source": [
    "ion = anmodel.params.Ion()"
   ]
  },
  {
   "cell_type": "code",
   "execution_count": 4,
   "metadata": {},
   "outputs": [],
   "source": [
    "sleep_ion = ion.sleep_ion\n",
    "an_sleep = anmodel.models.ANmodel(ion=True, concentration=sleep_ion)"
   ]
  },
  {
   "cell_type": "code",
   "execution_count": 5,
   "metadata": {},
   "outputs": [
    {
     "data": {
      "text/plain": [
       "[<matplotlib.lines.Line2D at 0x1a1c52b290>]"
      ]
     },
     "execution_count": 5,
     "metadata": {},
     "output_type": "execute_result"
    },
    {
     "data": {
      "image/png": "[encoded data removed]",
      "text/plain": [
       "<Figure size 432x288 with 1 Axes>"
      ]
     },
     "metadata": {
      "needs_background": "light"
     },
     "output_type": "display_data"
    }
   ],
   "source": [
    "an_sleep.set_sws_params()\n",
    "s, info = an_sleep.run_odeint()\n",
    "plt.plot(s[4999:, 0])"
   ]
  },
  {
   "cell_type": "code",
   "execution_count": 8,
   "metadata": {},
   "outputs": [],
   "source": [
    "awake_ion = ion.awake_ion\n",
    "an_awake = anmodel.models.ANmodel(ion=True, concentration=awake_ion)"
   ]
  },
  {
   "cell_type": "code",
   "execution_count": 9,
   "metadata": {},
   "outputs": [
    {
     "data": {
      "text/plain": [
       "[<matplotlib.lines.Line2D at 0x151ead1750>]"
      ]
     },
     "execution_count": 9,
     "metadata": {},
     "output_type": "execute_result"
    },
    {
     "data": {
      "image/png": "[encoded data removed]",
      "text/plain": [
       "<Figure size 432x288 with 1 Axes>"
      ]
     },
     "metadata": {
      "needs_background": "light"
     },
     "output_type": "display_data"
    }
   ],
   "source": [
    "an_awake.set_sws_params()\n",
    "s, info = an_awake.run_odeint()\n",
    "plt.plot(s[4999:, 0])"
   ]
  },
  {
   "cell_type": "code",
   "execution_count": 16,
   "metadata": {},
   "outputs": [
    {
     "data": {
      "text/plain": [
       "{'hu': array([0.16502991, 0.11759439, 0.02257834, ..., 0.10359893, 0.1996568 ,\n",
       "        0.1996568 ]),\n",
       " 'tcur': array([2.01277532e+00, 3.02158546e+00, 4.01594080e+00, ...,\n",
       "        9.99804192e+03, 9.99906815e+03, 1.00000664e+04]),\n",
       " 'tolsf': array([4.48163865e-313, 4.48163865e-313, 4.48163865e-313, ...,\n",
       "        4.48163865e-313, 4.48163865e-313, 4.48163865e-313]),\n",
       " 'tsw': array([1.00000000e+00, 1.00000000e+00, 1.00000000e+00, ...,\n",
       "        9.99539839e+03, 9.99539839e+03, 9.99539839e+03]),\n",
       " 'nst': array([    12,     18,     69, ..., 148288, 148295, 148300], dtype=int32),\n",
       " 'nfe': array([    25,     43,    163, ..., 359709, 359723, 359733], dtype=int32),\n",
       " 'nje': array([   0,    0,    0, ..., 6761, 6761, 6761], dtype=int32),\n",
       " 'nqu': array([4, 4, 5, ..., 4, 5, 5], dtype=int32),\n",
       " 'imxer': -1,\n",
       " 'lenrw': 212,\n",
       " 'leniw': 30,\n",
       " 'mused': array([1, 1, 1, ..., 1, 1, 1], dtype=int32),\n",
       " 'message': 'Integration successful.'}"
      ]
     },
     "execution_count": 16,
     "metadata": {},
     "output_type": "execute_result"
    }
   ],
   "source": [
    "info"
   ]
  },
  {
   "cell_type": "code",
   "execution_count": null,
   "metadata": {},
   "outputs": [],
   "source": []
  }
 ],
 "metadata": {
  "kernelspec": {
   "display_name": "Python 3",
   "language": "python",
   "name": "python3"
  },
  "language_info": {
   "codemirror_mode": {
    "name": "ipython",
    "version": 3
   },
   "file_extension": ".py",
   "mimetype": "text/x-python",
   "name": "python",
   "nbconvert_exporter": "python",
   "pygments_lexer": "ipython3",
   "version": "3.7.7"
  }
 },
 "nbformat": 4,
 "nbformat_minor": 4
}
